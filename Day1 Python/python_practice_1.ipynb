{
 "cells": [
  {
   "attachments": {},
   "cell_type": "markdown",
   "metadata": {},
   "source": [
    "# Python プログラミング入門  \n",
    "copyright 2019 Jujukeisan.co.jp\n",
    "\n",
    "本資料の目的  \n",
    "・初めてプログラミングを学ぶ方向けにプログラミングで使うロジックを理解する  \n",
    "・Python以外のプログラミング経験がある人がPythonでの記述方法レビューする  \n",
    "\n",
    "** Jupyter notebookショートカット：** https://qiita.com/masafumi_miya/items/6524dbd227705351a00c  \n",
    "** MarkDown記法：** https://qiita.com/tbpgr/items/989c6badefff69377da7\n"
   ]
  },
  {
   "cell_type": "markdown",
   "metadata": {},
   "source": [
    "---\n",
    "# ショートカット\n",
    "【実行方法】Shift + Enter または Ctrl + Enter  \n",
    "【行挿入】行を選択して　選択行の上に挿入）a　　選択行の下に挿入) b  \n",
    "【行の削除】行を選択して　dd  \n",
    "【モード切替】行を選択して　プログラミングモード：y　マークダウンモード：m  \n",
    "\n",
    "---"
   ]
  },
  {
   "cell_type": "markdown",
   "metadata": {},
   "source": [
    "## 何はともあれ！「Hello Python!」を表示しよう"
   ]
  },
  {
   "cell_type": "code",
   "execution_count": null,
   "metadata": {
    "collapsed": true
   },
   "outputs": [],
   "source": [
    "a = \"Hello Python!\"\n",
    "print(a)"
   ]
  },
  {
   "cell_type": "markdown",
   "metadata": {},
   "source": [
    "### Q 文字列表示  \n",
    "お隣の方の名前を 変数：name に格納して、  \n",
    "「はじめまして　●●●●　さん」と表示してみよう  \n",
    "※ヒント：固定文字列と変数を繋げて表示する場合、  print(\"今日の天気は\",tenki,\"です\")   のように、,で繋げて記述します。"
   ]
  },
  {
   "cell_type": "code",
   "execution_count": null,
   "metadata": {
    "collapsed": true
   },
   "outputs": [],
   "source": [
    "name = \"●●●●\" # ここに名前を！\n",
    "print(ここを記述)"
   ]
  },
  {
   "cell_type": "markdown",
   "metadata": {},
   "source": [
    "# 四則演算  \n",
    "加算：+　減算：-　除算：/　乗算：＊（アスタリスク）\n",
    "剰余：%　べき乗：＊＊ （アスタリスク２個）\n"
   ]
  },
  {
   "cell_type": "markdown",
   "metadata": {},
   "source": [
    "### Q 四則演算表示  \n",
    "下記の演算の答えを表示するように追記してください。"
   ]
  },
  {
   "cell_type": "code",
   "execution_count": null,
   "metadata": {
    "collapsed": true
   },
   "outputs": [],
   "source": [
    "a = 10\n",
    "b = 20\n",
    "c = 3\n",
    "print(\"a＋b＝\",ここに記述)\n",
    "print(\"b‐a＝\",ここに記述)\n",
    "print(\"a×b＝\",ここに記述)\n",
    "print(\"b÷a＝\",ここに記述)\n",
    "print(\"aのc乗＝\",ここに記述)\n",
    "print(\"aをcで割った時の余り＝\",ここに記述)"
   ]
  },
  {
   "cell_type": "markdown",
   "metadata": {},
   "source": [
    "## 型違いによるエラーについて\n",
    "型が異なると演算を行った場合にエラーになることがあります。  \n",
    "下記のプログラムを実行してみてください。"
   ]
  },
  {
   "cell_type": "markdown",
   "metadata": {},
   "source": [
    "変数の型を調べる：type(変数)  \n",
    "int型に変換：int(変数)  \n",
    "str型に変換：str(変数)  \n",
    "float型に変換：float(変数)  \n"
   ]
  },
  {
   "cell_type": "markdown",
   "metadata": {},
   "source": [
    "### Q 型の変換  \n",
    "下記のプログラムを型変換をしてエラーが出ないようにしてください。  \n"
   ]
  },
  {
   "cell_type": "code",
   "execution_count": null,
   "metadata": {
    "collapsed": true
   },
   "outputs": [],
   "source": [
    "a = \"1234\"\n",
    "b = 10\n",
    "print(a+b)"
   ]
  },
  {
   "cell_type": "markdown",
   "metadata": {},
   "source": [
    "# コレクション   \n",
    "pythonデフォルトで用意されているデータ保存の仕組みには下記があります。  \n",
    "・配列（リスト）  \n",
    "・辞書型（Dict）  \n",
    "・集合型（Set）"
   ]
  },
  {
   "cell_type": "markdown",
   "metadata": {},
   "source": [
    "## 配列（リスト）について  \n",
    "定義するには角括弧（[ ]）を使い、含める要素をカンマ（,）で区切ります。  \n",
    "各要素へのアクセスは0から始まるindex番号で指定します。\n"
   ]
  },
  {
   "cell_type": "code",
   "execution_count": null,
   "metadata": {
    "collapsed": true
   },
   "outputs": [],
   "source": [
    "x = [1,2,3,4,5,6,7,8,9,0]\n",
    "print(x)"
   ]
  },
  {
   "cell_type": "markdown",
   "metadata": {},
   "source": [
    "要素へのアクセスはインデックス番号で指定します。<b>※インデックスは0から始まります。</b>"
   ]
  },
  {
   "cell_type": "code",
   "execution_count": null,
   "metadata": {
    "collapsed": true
   },
   "outputs": [],
   "source": [
    "print(\"先頭の数字：\",x[0])\n",
    "print(\"最後の数字：\",x[9])"
   ]
  },
  {
   "cell_type": "markdown",
   "metadata": {},
   "source": [
    "配列の最後に新しい要素を追加する場合、<b>append関数を使います。</b>  \n",
    "<i> リストオブジェクト.append(挿入する値) </i>"
   ]
  },
  {
   "cell_type": "code",
   "execution_count": null,
   "metadata": {
    "collapsed": true
   },
   "outputs": [],
   "source": [
    "x.append(11) # 配列の最後（11番目）に格納\n",
    "print(x[10])\n",
    "print(x)"
   ]
  },
  {
   "cell_type": "markdown",
   "metadata": {},
   "source": [
    "配列の間（指定の位置）に要素を追加する場合、<b>insert関数</b>を使います。  \n",
    "<i> リストオブジェクト.insert(インデックス, オブジェクト) </i>"
   ]
  },
  {
   "cell_type": "code",
   "execution_count": null,
   "metadata": {
    "collapsed": true
   },
   "outputs": [],
   "source": [
    "# 2番目に\"22\"を追加してみる\n",
    "x.insert(1,22)\n",
    "x"
   ]
  },
  {
   "cell_type": "markdown",
   "metadata": {},
   "source": [
    "配列の長さを調べるには・・・  <b>len(変数名)</b>　で取得できます。"
   ]
  },
  {
   "cell_type": "code",
   "execution_count": null,
   "metadata": {
    "collapsed": true
   },
   "outputs": [],
   "source": [
    "print(\"配列のサイズは\",len(x),\"です。\")"
   ]
  },
  {
   "cell_type": "markdown",
   "metadata": {},
   "source": [
    "## 辞書型について  \n",
    "辞書はリスト型とは違い、index番号が無く、代わりにキー（key）と、対応する値（value）を指定します。  \n",
    "辞書を定義するには波括弧（{} )で各要素を囲み、コロン（:）でキーと値を書きます。  \n",
    "値と次のキーの間はカンマ（,）で区切ります。  \n",
    "※keyは重複して持つことはできないところがポイントです。"
   ]
  },
  {
   "cell_type": "code",
   "execution_count": null,
   "metadata": {
    "collapsed": true
   },
   "outputs": [],
   "source": [
    "fruits = {\"Apple\":\"リンゴ\",\"Strawberry\":\"いちご\",\"melon\":\"メロン\",\"Orange\":\"みかん\",\"Banana\":\"バナナ\"}\n",
    "print(fruits)"
   ]
  },
  {
   "cell_type": "markdown",
   "metadata": {},
   "source": [
    "### 要素へのアクセスは\"key\"を指定します。"
   ]
  },
  {
   "cell_type": "code",
   "execution_count": null,
   "metadata": {
    "collapsed": true
   },
   "outputs": [],
   "source": [
    "print(fruits[\"Strawberry\"])"
   ]
  },
  {
   "cell_type": "markdown",
   "metadata": {},
   "source": [
    "### keyのみを配列（リスト）で取出す場合は、keys関数を使います。  \n",
    "<i>辞書オプジェクト.keys()</i>"
   ]
  },
  {
   "cell_type": "code",
   "execution_count": null,
   "metadata": {
    "collapsed": true
   },
   "outputs": [],
   "source": [
    "fruits.keys()"
   ]
  },
  {
   "cell_type": "markdown",
   "metadata": {},
   "source": [
    "### valueのみを配列（リスト）で取出す場合は、values関数を使います。  \n",
    "<i>辞書オプジェクト.values()</i>"
   ]
  },
  {
   "cell_type": "code",
   "execution_count": null,
   "metadata": {
    "collapsed": true
   },
   "outputs": [],
   "source": [
    "fruits.values()"
   ]
  },
  {
   "cell_type": "markdown",
   "metadata": {},
   "source": [
    "### keyとvalueのペアを取出す場合は、items関数を使います。  \n",
    "<i>辞書オプジェクト.items()</i> "
   ]
  },
  {
   "cell_type": "code",
   "execution_count": null,
   "metadata": {
    "collapsed": true
   },
   "outputs": [],
   "source": [
    "list(fruits.items())"
   ]
  },
  {
   "cell_type": "markdown",
   "metadata": {},
   "source": [
    "### 新しいkey,valueを追加する場合、\n",
    "<i>辞書オブジェクト[新しいkey]=新しいvalue</i>"
   ]
  },
  {
   "cell_type": "code",
   "execution_count": null,
   "metadata": {
    "collapsed": true
   },
   "outputs": [],
   "source": [
    "fruits[\"peach\"]=\"桃\"\n",
    "print(list(fruits.items()))"
   ]
  },
  {
   "cell_type": "markdown",
   "metadata": {},
   "source": [
    "### keyを指定して要素を削除する場合、\n",
    "<i>del 辞書オブジェクト[key]</i>"
   ]
  },
  {
   "cell_type": "code",
   "execution_count": null,
   "metadata": {
    "collapsed": true
   },
   "outputs": [],
   "source": [
    "del fruits[\"Banana\"],fruits[\"Apple\"] # バナナとリンゴを削除\n",
    "print(list(fruits.items()))"
   ]
  },
  {
   "cell_type": "markdown",
   "metadata": {},
   "source": [
    "### ２つの辞書型を連結する場合は、  \n",
    "<i>辞書オブジェクト.update(辞書オブジェクト)</i>  \n",
    "update()メソッドの引数に別の辞書オブジェクトを指定すると、その辞書オブジェクトの要素がすべて追加されます。  \n",
    "既存のキーと重複する場合は引数に指定した辞書の値で上書きされます。  "
   ]
  },
  {
   "cell_type": "code",
   "execution_count": null,
   "metadata": {
    "collapsed": true
   },
   "outputs": [],
   "source": [
    "fruits1 = {\"Apple\": \"リンゴ\", \"Strawberry\":\"いちご\"}\n",
    "fruits2 = {\"melon\":\"メロン\",\"Orange\":\"みかん\",\"Banana\":\"バナナ\",\"Strawberry\":\"苺\"}\n",
    "fruits1.update(fruits2)\n",
    "print(fruits1)"
   ]
  },
  {
   "cell_type": "markdown",
   "metadata": {},
   "source": [
    "## 集合型について  \n",
    "リスト型に似ていますが、「重複した要素が持てない 」という点で違いがあります。"
   ]
  },
  {
   "cell_type": "code",
   "execution_count": null,
   "metadata": {
    "collapsed": true
   },
   "outputs": [],
   "source": [
    "set_1 = {1,2,2,2,3,4,5,5,6}\n",
    "set_1"
   ]
  },
  {
   "cell_type": "code",
   "execution_count": null,
   "metadata": {
    "collapsed": true
   },
   "outputs": [],
   "source": [
    "x1 = set([1,2,3,4])\n",
    "print(x1)\n",
    "\n",
    "x2 = [1,2,2,3,3,4,4,5,5,6,6,7,7,8,8,9,9,0,0] # まだリスト型\n",
    "x3 = set(x2) # set型に変換\n",
    "print(x3) # 重複は排除されている"
   ]
  }
 ],
 "metadata": {
  "kernelspec": {
   "display_name": "Python 3",
   "language": "python",
   "name": "python3"
  },
  "language_info": {
   "codemirror_mode": {
    "name": "ipython",
    "version": 3
   },
   "file_extension": ".py",
   "mimetype": "text/x-python",
   "name": "python",
   "nbconvert_exporter": "python",
   "pygments_lexer": "ipython3",
   "version": "3.6.3"
  }
 },
 "nbformat": 4,
 "nbformat_minor": 2
}
