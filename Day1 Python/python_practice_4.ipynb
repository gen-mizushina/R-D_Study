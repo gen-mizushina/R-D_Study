{
 "cells": [
  {
   "cell_type": "markdown",
   "metadata": {},
   "source": [
    "# Python プログラミング入門  \n",
    "copyright 2019 Jujukeisan.co.jp\n",
    "\n",
    "本資料の目的  \n",
    "Pythonでのグラフを描画を学ぼう  \n",
    "  \n",
    "**Matplotlib:** データビジュアライゼーションパッケージ  \n",
    "**pyplot:** matplotlibパッケージ内のライブラリ群。基本的にはこのモジュール越しにmatplotlibの機能を活用する。\n",
    "\n",
    "https://matplotlib.org/gallery/index.html"
   ]
  },
  {
   "cell_type": "markdown",
   "metadata": {},
   "source": [
    "---"
   ]
  },
  {
   "cell_type": "markdown",
   "metadata": {},
   "source": [
    "# ライブラリの読込み"
   ]
  },
  {
   "cell_type": "code",
   "execution_count": null,
   "metadata": {
    "collapsed": true
   },
   "outputs": [],
   "source": [
    "import matplotlib.pyplot as plt # グラフ描画用ライブラリ\n",
    "import numpy as np # 数値計算用ライブラリ\n",
    "\n",
    "# グラフをインライン描画する際に指定\n",
    "%matplotlib inline"
   ]
  },
  {
   "cell_type": "markdown",
   "metadata": {},
   "source": [
    "---"
   ]
  },
  {
   "cell_type": "markdown",
   "metadata": {},
   "source": [
    "# 折れ線グラフ　plotメソッド\n",
    "1. linewidth：　線の太さ\n",
    "1. linestyle：　線のスタイル (デフォルト値:”solid”)\n",
    "   1. solid (実線)\n",
    "   1. dashed(破線)\n",
    "   1. dashdot(破線&点線)\n",
    "   1. dotted(点線)\n",
    "1. color：　線の色\n",
    "1. marker：マーカーの種類　※https://matplotlib.org/api/markers_api.html#module-matplotlib.markers　参照"
   ]
  },
  {
   "cell_type": "code",
   "execution_count": null,
   "metadata": {
    "collapsed": true
   },
   "outputs": [],
   "source": [
    "# データ生成\n",
    "np.random.seed(1234) # 乱数初期値設定\n",
    "x = np.linspace(0, 10, 100) # 0～10まで等間隔で100個データを生成\n",
    "y = x + np.random.randn(100) # 100個乱数を生成して加算（正規分布(平均:0 分散:1)）\n",
    "\n",
    "# グラフ作成\n",
    "plt.plot(x,y,\n",
    "         linewidth=1,\n",
    "         linestyle=\"dotted\",\n",
    "         color=\"red\",\n",
    "         marker=\".\",\n",
    "         label=\"ラベルです!\")\n",
    "\n",
    "# 凡例の表示\n",
    "plt.legend()\n",
    "\n",
    "# グラフの描画\n",
    "plt.show()"
   ]
  },
  {
   "cell_type": "markdown",
   "metadata": {},
   "source": [
    "---"
   ]
  },
  {
   "cell_type": "markdown",
   "metadata": {},
   "source": [
    "# 棒グラフ　barメソッド\n",
    "1. left：　各棒の X 軸上の数値\n",
    "1. height：　各棒の高さ\n",
    "1. color：　棒の色"
   ]
  },
  {
   "cell_type": "code",
   "execution_count": null,
   "metadata": {
    "collapsed": true
   },
   "outputs": [],
   "source": [
    "# データ生成\n",
    "left = np.array([\"banana\", \"apple\", \"orange\", \"cherry\", \"melon\"])\n",
    "height = np.array([100, 200, 300, 400, 500])\n",
    "\n",
    "# グラフ作成\n",
    "plt.bar(left, \n",
    "        height,\n",
    "        color=\"red\")\n",
    "\n",
    "# グラフの描画\n",
    "plt.show()"
   ]
  },
  {
   "cell_type": "markdown",
   "metadata": {},
   "source": [
    "---"
   ]
  },
  {
   "cell_type": "markdown",
   "metadata": {},
   "source": [
    "# ヒストグラム　histメソッド  \n",
    "1. bins：ビン (表示する棒) の数。階級数。(デフォルト値: 10)\n",
    "1. normed：True に設定すると正規化 (合計値が 1 になるように変換) を実施。 (デフォルト値: False)\n",
    "1. cumulative：True に設定すると、累積ヒストグラムを出力。 (デフォルト値: False)\n",
    "1. histtype：ヒストグラムの描画タイプ(デフォルト値: ‘bar’)\n",
    "   1. bar(通常のヒストグラム)\n",
    "   1. barstacked(積み上げヒストグラム)\n",
    "   1. step(線)\n",
    "   1. stepfilled(塗りつぶしありの線) から選択。\n",
    "1. orientation：棒の方向(デフォルト値: ‘vertical’)\n",
    "   1. horizontal(水平方向)\n",
    "   1. vertical(垂直方向) から選択。"
   ]
  },
  {
   "cell_type": "code",
   "execution_count": null,
   "metadata": {
    "collapsed": true
   },
   "outputs": [],
   "source": [
    "# データ作成\n",
    "np.random.seed(1234) # 乱数初期値設定\n",
    "data = np.random.randn(1000) # 1000個乱数を生成して加算（正規分布(平均:0 分散:1)）\n",
    "\n",
    "# ヒストグラムの作成\n",
    "plt.hist(data,\n",
    "         bins=20,\n",
    "         normed=False,\n",
    "         cumulative=False,\n",
    "         histtype=\"bar\",\n",
    "         orientation=\"vertical\")\n",
    "\n",
    "# 描画\n",
    "plt.show()"
   ]
  },
  {
   "cell_type": "markdown",
   "metadata": {},
   "source": [
    "---"
   ]
  },
  {
   "cell_type": "markdown",
   "metadata": {},
   "source": [
    "# 散布図　sccaterメソッド  \n",
    "1. s：ドットの大きさ(デフォルト値: 20)\n",
    "1. c：ドットの色 または、連続した色の値\n",
    "1. marker：マーカーの形 (デフォルト値: ‘o’= 円)\n",
    "1. cmap：カラーマップ。　※c が float 型の場合のみ利用可能\n"
   ]
  },
  {
   "cell_type": "code",
   "execution_count": null,
   "metadata": {
    "collapsed": true
   },
   "outputs": [],
   "source": [
    "# データ作成\n",
    "np.random.seed(1234) # 乱数初期値設定\n",
    "x = np.random.randn(100)\n",
    "y = np.random.randn(100)\n",
    "\n",
    "# ヒストグラムの作成\n",
    "plt.scatter(x,y,\n",
    "            s=100,\n",
    "            c=\"red\",\n",
    "            marker='.'\n",
    "           )\n",
    "\n",
    "# 描画\n",
    "plt.show()"
   ]
  },
  {
   "cell_type": "code",
   "execution_count": null,
   "metadata": {
    "collapsed": true
   },
   "outputs": [],
   "source": [
    "# データ作成\n",
    "np.random.seed(1234) # 乱数初期値設定\n",
    "x = np.random.randn(100)\n",
    "y = np.random.randn(100)\n",
    "value = np.random.randn(100)\n",
    "\n",
    "# ヒストグラムの作成\n",
    "plt.scatter(x,y,\n",
    "            s=100,\n",
    "            c=value,\n",
    "            cmap='Blues'\n",
    "           )\n",
    "\n",
    "# カラーバーを表示\n",
    "plt.colorbar()\n",
    "\n",
    "# 描画\n",
    "plt.show()"
   ]
  },
  {
   "cell_type": "markdown",
   "metadata": {},
   "source": [
    "---"
   ]
  },
  {
   "cell_type": "markdown",
   "metadata": {},
   "source": [
    "# 複数のグラフを並べて描画\n",
    "1. figureインスタンスを生成する。 ※figsizeで縦横サイズ(インチ)を指定　デフォルトは(8,6)\n",
    "1. plot()メソッドで指定データでグラフを作成\n",
    "1. show()メソッドでグラフの描画"
   ]
  },
  {
   "cell_type": "code",
   "execution_count": null,
   "metadata": {
    "collapsed": true
   },
   "outputs": [],
   "source": [
    "# データ生成\n",
    "x = np.linspace(0, 10, 100) # 0～10まで等間隔で100個データを生成\n",
    "y = x + np.random.randn(100) # 100個乱数を生成して加算（正規分布(平均:0 分散:1)）\n",
    "\n",
    "# グラフ描画用のキャンバスを作成\n",
    "plt.figure(figsize=(6, 3)) # figsizeで縦横サイズ(インチ)を指定　デフォルトは(8,6)\n",
    "plt.plot(x, y) # グラフ作成\n",
    "\n",
    "# グラフの描画\n",
    "plt.show()"
   ]
  },
  {
   "cell_type": "markdown",
   "metadata": {},
   "source": [
    "---"
   ]
  },
  {
   "cell_type": "markdown",
   "metadata": {},
   "source": [
    "# グラフのレイアウトの仕方\n",
    "<img src=\"images/images1.jpg\">"
   ]
  },
  {
   "cell_type": "markdown",
   "metadata": {},
   "source": [
    "## 並べて描画"
   ]
  },
  {
   "cell_type": "code",
   "execution_count": null,
   "metadata": {
    "collapsed": true
   },
   "outputs": [],
   "source": [
    "# データ作成\n",
    "x = np.linspace(0, 10, 20)\n",
    "y1 = x\n",
    "y2 = x ** 2 \n",
    "\n",
    "# グラフ描画用のキャンバスを作成\n",
    "plt.figure(figsize=(8, 3)) # figsizeで縦横サイズ(インチ)を指定　デフォルトは(8,6)\n",
    "\n",
    "# 1つ目のグラフを作成\n",
    "plt.subplot(1,2,1) # キャンパス内のどこに配置するかを指定。subplot(行の数,列の数,何番目に配置するか)\n",
    "plt.plot(x, y1)\n",
    "\n",
    "# 2つ目のグラフを作成\n",
    "plt.subplot(1,2,2) # キャンパス内のどこに配置するかを指定。subplot(行の数,列の数,何番目に配置するか)\n",
    "plt.plot(x, y2)\n",
    "\n",
    "# グラフの描画\n",
    "plt.show()"
   ]
  },
  {
   "cell_type": "markdown",
   "metadata": {},
   "source": [
    "## 重ねて描画"
   ]
  },
  {
   "cell_type": "code",
   "execution_count": null,
   "metadata": {
    "collapsed": true
   },
   "outputs": [],
   "source": [
    "# データ作成\n",
    "x = np.linspace(0, 10, 20)\n",
    "y1 = x\n",
    "y2 = x ** 2 \n",
    "\n",
    "# グラフ描画用のキャンバスを作成\n",
    "plt.figure(figsize=(4, 3)) # figsizeで縦横サイズ(インチ)を指定　デフォルトは(8,6)\n",
    "\n",
    "plt.subplot(1,1,1) # キャンパス内のどこに配置するかを指定。subplot(行の数,列の数,何番目に配置するか)\n",
    "plt.plot(x, y1,label=\"y1\")\n",
    "plt.plot(x, y2,label=\"y2\")\n",
    "\n",
    "# 凡例\n",
    "plt.legend()\n",
    "\n",
    "# グラフの描画\n",
    "plt.show()"
   ]
  },
  {
   "cell_type": "markdown",
   "metadata": {},
   "source": [
    "---"
   ]
  },
  {
   "cell_type": "markdown",
   "metadata": {},
   "source": [
    "# 便利なグラフライブラリ「Seaborn」\n",
    "Pythonチャートを描く場合の定番は「matplotlib」ですが、その見た目のやや野暮ったい感じと、表記法のややこしさが指摘されています。  \n",
    "Matplotlibの機能をより美しく、またより簡単に実現するためのラッパー的存在である、「Seaborn」を簡単にご紹介します。"
   ]
  },
  {
   "cell_type": "markdown",
   "metadata": {},
   "source": [
    "## seabornライブラリのインストール"
   ]
  },
  {
   "cell_type": "code",
   "execution_count": null,
   "metadata": {
    "collapsed": true
   },
   "outputs": [],
   "source": [
    "#!pip install seaborn"
   ]
  },
  {
   "cell_type": "code",
   "execution_count": null,
   "metadata": {
    "collapsed": true
   },
   "outputs": [],
   "source": [
    "import seaborn as sns"
   ]
  },
  {
   "cell_type": "code",
   "execution_count": null,
   "metadata": {
    "collapsed": true
   },
   "outputs": [],
   "source": [
    "# データのロード\n",
    "iris = sns.load_dataset(\"iris\")  ## Rでお馴染みのアヤメの統計データ"
   ]
  },
  {
   "cell_type": "markdown",
   "metadata": {},
   "source": [
    "<img src=\"images/images2.png\" width=\"700\">"
   ]
  },
  {
   "cell_type": "code",
   "execution_count": null,
   "metadata": {
    "collapsed": true
   },
   "outputs": [],
   "source": [
    "# iris（アヤメ）データセットの中身\n",
    "# Sepal：がく　Petal：花弁\n",
    "iris.head()"
   ]
  },
  {
   "cell_type": "markdown",
   "metadata": {},
   "source": [
    "---"
   ]
  },
  {
   "cell_type": "markdown",
   "metadata": {},
   "source": [
    "# ヒストグラム distplotメソッド\n",
    "1. kde：　密度近似関数の描画（デフォルト：True）\n",
    "1. bins：　x軸の刻み目の指定"
   ]
  },
  {
   "cell_type": "code",
   "execution_count": null,
   "metadata": {
    "collapsed": true
   },
   "outputs": [],
   "source": [
    "sns.distplot(iris[\"sepal_length\"], kde=True, bins=20) "
   ]
  },
  {
   "cell_type": "markdown",
   "metadata": {},
   "source": [
    "---"
   ]
  },
  {
   "cell_type": "markdown",
   "metadata": {},
   "source": [
    "# 散布図 jointplotメソッド\n",
    "散布図の他にそれぞれのヒストグラムも同時に表示"
   ]
  },
  {
   "cell_type": "code",
   "execution_count": null,
   "metadata": {
    "collapsed": true
   },
   "outputs": [],
   "source": [
    "sns.jointplot(x='sepal_length', y='sepal_width', data=iris)"
   ]
  },
  {
   "cell_type": "markdown",
   "metadata": {},
   "source": [
    "# 散布図たくさん pairplotメソッド\n",
    "全ての組合せで散布図を作成してくれます。"
   ]
  },
  {
   "cell_type": "code",
   "execution_count": null,
   "metadata": {
    "collapsed": true
   },
   "outputs": [],
   "source": [
    "sns.pairplot(data=iris,hue=\"species\")"
   ]
  },
  {
   "cell_type": "markdown",
   "metadata": {},
   "source": [
    "# Seabornサイト\n",
    "## https://seaborn.pydata.org/index.html"
   ]
  }
 ],
 "metadata": {
  "kernelspec": {
   "display_name": "Python 3",
   "language": "python",
   "name": "python3"
  },
  "language_info": {
   "codemirror_mode": {
    "name": "ipython",
    "version": 3
   },
   "file_extension": ".py",
   "mimetype": "text/x-python",
   "name": "python",
   "nbconvert_exporter": "python",
   "pygments_lexer": "ipython3",
   "version": "3.6.3"
  }
 },
 "nbformat": 4,
 "nbformat_minor": 2
}
