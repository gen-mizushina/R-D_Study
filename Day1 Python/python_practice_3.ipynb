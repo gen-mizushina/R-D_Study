{
 "cells": [
  {
   "cell_type": "markdown",
   "metadata": {},
   "source": [
    "# Pandas基本操作\n",
    "copyright 2019 Jujukeisan.co.jp  \n",
    "  \n",
    "機械学習やDeepLearningのモデル精度に大きな影響を与えるデータ品質！  \n",
    "データを適切に把握し、欠損値などのデータ処理を行う前処理の重要性は高いと言えます。  \n",
    "ここでは、データ処理の基本ライブラリ（ツール）であるPandasについてご紹介していきます。  \n",
    "  \n",
    "Pandasは非常に多くの機能を提供している為、特に重要な幾つかの機能に絞ってご紹介します。"
   ]
  },
  {
   "cell_type": "markdown",
   "metadata": {},
   "source": [
    "---"
   ]
  },
  {
   "cell_type": "markdown",
   "metadata": {},
   "source": [
    "## 1)データの読み込み "
   ]
  },
  {
   "cell_type": "code",
   "execution_count": null,
   "metadata": {
    "collapsed": true
   },
   "outputs": [],
   "source": [
    "# pandasを「pd」という名前でインポート\n",
    "import pandas as pd"
   ]
  },
  {
   "cell_type": "code",
   "execution_count": null,
   "metadata": {
    "collapsed": true
   },
   "outputs": [],
   "source": [
    "# データ(csvの読み込み)\n",
    "data = pd.read_csv(\"sampleData_1.csv\", sep=',')"
   ]
  },
  {
   "cell_type": "code",
   "execution_count": null,
   "metadata": {
    "scrolled": true
   },
   "outputs": [],
   "source": [
    "# 先頭5行を表示\n",
    "data.head(5)"
   ]
  },
  {
   "cell_type": "markdown",
   "metadata": {},
   "source": [
    "- satisfaction_level：満足度  \n",
    "- last_evaluation：最終評価  \n",
    "- number_project：プロジェクト数  \n",
    "- average_monthly_hours：月間労働時間  \n",
    "- time_spend_company：社歴  \n",
    "- Work_accident：トラブルの有無（1：あり　0：なし）  \n",
    "- left：退職したか否か（1：辞めた　0：在職）  \n",
    "- promotion_last_5years：5年間で昇格はあったかどうか  \n",
    "- department：部署  \n",
    "- Salary：給与  "
   ]
  },
  {
   "cell_type": "markdown",
   "metadata": {},
   "source": [
    "## 2)データの状態確認 \n",
    "読み込んだデータの概要を確認してみよう。  \n",
    " - 行数・列数の確認：pandasオブジェクト.shape\n",
    " - 列（カラム）の確認：pandasオブジェクト.columns \n",
    " - カテゴリデータの種類とその数：pandasオブジェクト[列名].value_counts()\n",
    " - 要約統計量の表示：pandasオブジェクト.describe()"
   ]
  },
  {
   "cell_type": "code",
   "execution_count": null,
   "metadata": {},
   "outputs": [],
   "source": [
    "# データフレームの行数・列数\n",
    "print(\"データフレームの行数・列数\\n\",data.shape)\n",
    "print(\"---------------------------------\")\n",
    "# データフレームのカラム確認\n",
    "print(\"データフレームのカラム確認\\n\",data.columns)\n",
    "print(\"---------------------------------\")\n",
    "print(\"salaryの種類と数\\n\",data['salary'].value_counts())\n",
    "print(\"---------------------------------\")\n",
    "print(\"要約統計量\\n\",data[\"average_montly_hours\"].describe())"
   ]
  },
  {
   "cell_type": "code",
   "execution_count": null,
   "metadata": {},
   "outputs": [],
   "source": [
    "data.info()"
   ]
  },
  {
   "cell_type": "markdown",
   "metadata": {},
   "source": [
    "## 3)データの抽出 \n",
    "読み込んだデータから必要なデータを抽出する \n",
    " - 列の絞り込み：pandasオブジェクト[[\"列名1\",\"列名1\"]]\n",
    " - 条件指定による行の絞り込み：pandasオブジェクト.query(条件) ※条件はシングルクォートで括る"
   ]
  },
  {
   "cell_type": "code",
   "execution_count": null,
   "metadata": {},
   "outputs": [],
   "source": [
    "# 列の絞り込み(先頭5件表示)\n",
    "data[[\"satisfaction_level\",\"salary\"]].head(5)"
   ]
  },
  {
   "cell_type": "code",
   "execution_count": null,
   "metadata": {
    "scrolled": true
   },
   "outputs": [],
   "source": [
    "# salaryが”medium”のデータを抽出\n",
    "data.query('salary == \"medium\"').head()"
   ]
  },
  {
   "cell_type": "markdown",
   "metadata": {},
   "source": [
    "---"
   ]
  },
  {
   "cell_type": "markdown",
   "metadata": {},
   "source": [
    "# 演習\n",
    "読み込んだデータ(data)を使って、下記のデータを抽出してみよう。  \n",
    "1. left列とdepartment列のみのデータ ※先頭10行を表示  \n",
    "1. satisfaction_levelが0.8以上でaverage_monthly_hoursが200以上のデータ ※先頭10行表示  "
   ]
  },
  {
   "cell_type": "markdown",
   "metadata": {},
   "source": [
    "---"
   ]
  },
  {
   "cell_type": "markdown",
   "metadata": {},
   "source": [
    "## 4)データの欠損状態の確認 \n",
    "データに欠損値NaN(not a number)があると、モデル作成時にエラーとなるなど、もろもろ問題がでてきます。  \n",
    "読み込んだローデータにどれくらい欠損があるかをまずはざっと確認します。 \n",
    " - 列単位で 欠損値の個数をカウント：pandasオブジェクト.isnull().sum()\n",
    " - 1つでもNaNが含まれる行を抽出：pandasオブジェクト[pandasオブジェクト.isnull().any(axis=1)]\n",
    " - 欠損値への処理（置換）：pandasオブジェクト.fillna(value={ '列名' : 置換え文字/数字 }, inplace=True)\n",
    " - 欠損値への処理（削除）：pandasオブジェクト.dropna(subset=['列名'], axis=0, inplace=True)\n",
    " "
   ]
  },
  {
   "cell_type": "code",
   "execution_count": null,
   "metadata": {
    "collapsed": true,
    "scrolled": true
   },
   "outputs": [],
   "source": [
    "# 列単位での欠損個数確認\n",
    "# ※正確には、isnull()でtureが返ってくる個数をカウントしている\n",
    "data.isnull().sum()"
   ]
  },
  {
   "cell_type": "code",
   "execution_count": null,
   "metadata": {
    "collapsed": true,
    "scrolled": false
   },
   "outputs": [],
   "source": [
    "# 1つでもNaNが含まれる行を抽出\n",
    "data[data.isnull().any(axis=1)]"
   ]
  },
  {
   "cell_type": "code",
   "execution_count": null,
   "metadata": {
    "collapsed": true,
    "scrolled": true
   },
   "outputs": [],
   "source": [
    "# 欠損値への処理（置換）\n",
    "# salary列の欠損値を”unknown”に置換え\n",
    "data.fillna(value={'salary':'unknown'},inplace=True)\n",
    "\n",
    "# 欠損値の確認\n",
    "data.isnull().sum()"
   ]
  },
  {
   "cell_type": "code",
   "execution_count": null,
   "metadata": {
    "collapsed": true,
    "scrolled": true
   },
   "outputs": [],
   "source": [
    "# 欠損値への処理（削除）\n",
    "data.dropna(subset=['average_montly_hours'],axis=0,inplace=True)\n",
    "\n",
    "# 欠損値の確認\n",
    "data.isnull().sum()"
   ]
  },
  {
   "cell_type": "markdown",
   "metadata": {},
   "source": [
    "---"
   ]
  },
  {
   "cell_type": "markdown",
   "metadata": {},
   "source": [
    "## 5)データのサンプリング\n",
    "データ分析を行う際、元のデータ件数が多い場合、ランダムサンプリングでデータを減らすというのは有効な手段。  \n",
    "元データからランダムにサンプリングする方法についてご説明します。  \n",
    "** パーセント指定 **：pandas.sample(frac=0.5)  \n",
    "** 件数指定 **：pandas.sample(n=5000)\n",
    "\n",
    " "
   ]
  },
  {
   "cell_type": "markdown",
   "metadata": {},
   "source": [
    "# 演習\n",
    "読み込んだデータ(data)を使って、下記のサンプリングデータを抽出してみよう。  \n",
    "1. dataから30%のデータをランダムサンプリングしてみよう。また、件数(len関数)を調べてみよう。  \n",
    "1. dataから3000件をランダムサンプリングしてみよう。また、件数(len関数)を調べてみよう。"
   ]
  },
  {
   "cell_type": "markdown",
   "metadata": {},
   "source": [
    "---"
   ]
  },
  {
   "cell_type": "markdown",
   "metadata": {},
   "source": [
    "## 6)データの集約処理\n",
    "データのグルーピングについてご説明します。  \n",
    "データのグルーピングには**groupby関数**を使います。  \n",
    "1. グルーピング変数が１つの場合：groupby(\"department\")\n",
    "1. グルーピング変数が複数の場合：groupby([\"department\",\"salary\"])　　※リストで指定\n",
    "\n",
    "グルーピングした単位で集約処理を行うには**agg関数**を使います。\n",
    "1. 集計処理が１つの場合：agg({\"number_project\":\"max\"})　※agg関数の引数は辞書型 {\"列名\":\"集計処理名\"}\n",
    "1. 集計処理が複数の場合：agg({\"number_project\":[\"max\",\"min\"]})　※集計処理名をリストで指定します。"
   ]
  },
  {
   "cell_type": "code",
   "execution_count": null,
   "metadata": {},
   "outputs": [],
   "source": [
    "# department列とsalary列でグルーピングを行い、グルーピング単位のaverage_monthly_hoursの最大値,最小値を求めてみます。\n",
    "# 集計関数を[ ]内に指定する\n",
    "result=data.groupby([\"department\",\"salary\"]). \\\n",
    "        agg({\"average_monthly_hours\":[\"max\",\"min\"]}).reset_index()\n",
    "\n",
    "result.columns=[\"dept\",\"salary\",\"min\",\"max\"]\n",
    "result"
   ]
  },
  {
   "cell_type": "markdown",
   "metadata": {},
   "source": [
    "---"
   ]
  },
  {
   "cell_type": "markdown",
   "metadata": {},
   "source": [
    "# 演習\n",
    "department列（部署）とleft列（退職したか否か）でグルーピングを行い、グループ単位で  \n",
    "1. average_monthly_hours\n",
    "2. satisfaction_level\n",
    "\n",
    "の最大値、最小値、平均(mean)、中央値(median)を調べてみよう。"
   ]
  },
  {
   "cell_type": "code",
   "execution_count": null,
   "metadata": {
    "collapsed": true
   },
   "outputs": [],
   "source": []
  }
 ],
 "metadata": {
  "kernelspec": {
   "display_name": "Python 3",
   "language": "python",
   "name": "python3"
  },
  "language_info": {
   "codemirror_mode": {
    "name": "ipython",
    "version": 3
   },
   "file_extension": ".py",
   "mimetype": "text/x-python",
   "name": "python",
   "nbconvert_exporter": "python",
   "pygments_lexer": "ipython3",
   "version": "3.6.3"
  }
 },
 "nbformat": 4,
 "nbformat_minor": 2
}
