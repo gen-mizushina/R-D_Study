{
 "cells": [
  {
   "cell_type": "markdown",
   "metadata": {},
   "source": [
    "# モンテカルロシミュレーション入門"
   ]
  },
  {
   "cell_type": "markdown",
   "metadata": {},
   "source": [
    "モンテカルロシミュレーションを題材にPythonの練習をしましょう。\n",
    "\n",
    "モンテカルロシミュレーションとは、名前はなんだか格好良い（しかも難しそう）ですが、中身はとても簡単です。\n",
    "ただ、乱数を発生させて、その乱数を使って計算しようというのがコンセプトです。"
   ]
  },
  {
   "cell_type": "markdown",
   "metadata": {},
   "source": [
    "# 演習： 半径3の円の面積を求めましょう。\n",
    "ヒント：  $ x^2 + y^2 = 3^2 $\n",
    "\n",
    "---\n",
    "\n",
    "#### 考え方: \n",
    "縦、横の3の正方形を思い浮かべてください。その中に、求めたい円の4分の1が入っています。<br>\n",
    "モンテカルロシミュレーションで求める場合、縦方向・横方向それぞれで0~3の乱数を発生させて、円の4分の1に入る割合を調べます。<br>\n",
    "割合を求めたら、正方形の面積にその割合をかけて4倍すれば面積は推定できます。<br>\n",
    "\n",
    "---"
   ]
  },
  {
   "cell_type": "code",
   "execution_count": null,
   "metadata": {
    "collapsed": true
   },
   "outputs": [],
   "source": [
    "%matplotlib inline\n",
    "import numpy as np\n",
    "import matplotlib.pyplot as plt  #matplotlibはグラフ描画のためのライブラリ"
   ]
  },
  {
   "cell_type": "markdown",
   "metadata": {},
   "source": [
    "## ランダムに値(x,y)を生成する関数"
   ]
  },
  {
   "cell_type": "code",
   "execution_count": null,
   "metadata": {
    "collapsed": true
   },
   "outputs": [],
   "source": [
    "#sizeはサンプル数\n",
    "def generate_uniform_random(size):\n",
    "    x = np.random.rand(size)*3\n",
    "    y = np.random.rand(size)*3\n",
    "    return x,y"
   ]
  },
  {
   "cell_type": "code",
   "execution_count": null,
   "metadata": {
    "scrolled": false
   },
   "outputs": [],
   "source": [
    "x,y = generate_uniform_random(1000)\n",
    "print(x[0:10])\n",
    "print(y[0:10])"
   ]
  },
  {
   "cell_type": "markdown",
   "metadata": {},
   "source": [
    "どんな点が生成されているのかを可視化しましょう"
   ]
  },
  {
   "cell_type": "code",
   "execution_count": null,
   "metadata": {},
   "outputs": [],
   "source": [
    "plt.figure(figsize=(3, 3)) # 適当に縦横のサイズを合わせる\n",
    "plt.scatter(x, y)  #　resの1列目をx軸に、resの2列目をy軸にして散布図(scatter plot)に\n",
    "plt.show()"
   ]
  },
  {
   "cell_type": "markdown",
   "metadata": {},
   "source": [
    "続いて、例題の円の公式  ($x^2 + y^2 = 3^2$)を参考に、円の中に入ったら1, 円の外の場合は0になる関数を書きましょう。"
   ]
  },
  {
   "cell_type": "code",
   "execution_count": null,
   "metadata": {
    "collapsed": true
   },
   "outputs": [],
   "source": [
    "def in_circle_func(x, y):\n",
    "    if x**2 + y**2 <= 3**2:\n",
    "        return 1\n",
    "    else:\n",
    "        return 0"
   ]
  },
  {
   "cell_type": "code",
   "execution_count": null,
   "metadata": {},
   "outputs": [],
   "source": [
    "print(in_circle_func(x=1, y=1))\n",
    "print(in_circle_func(x=4, y=3))"
   ]
  },
  {
   "cell_type": "markdown",
   "metadata": {},
   "source": [
    "続いて、生成した乱数のうち円の中に入っている割合を調べてみましょう"
   ]
  },
  {
   "cell_type": "code",
   "execution_count": null,
   "metadata": {},
   "outputs": [],
   "source": [
    "in_circle_count = 0\n",
    "in_circle_data_x = []\n",
    "in_circle_data_y = []\n",
    "out_circle_data_x = []\n",
    "out_circle_data_y = []\n",
    "\n",
    "for i in range(1000):\n",
    "    in_circle_flag = in_circle_func(x[i], y[i])  #もし円の中であれば1, そうでなければ0\n",
    "    in_circle_count += in_circle_flag #足し上げていけば円の中に入る点の数を数えられる\n",
    "    \n",
    "    #あとで色分けした散布図を書くためにデータを分けておく\n",
    "    if in_circle_flag==1:\n",
    "        in_circle_data_x.append(x[i])\n",
    "        in_circle_data_y.append(y[i])\n",
    "    else:\n",
    "        out_circle_data_x.append(x[i])\n",
    "        out_circle_data_y.append(y[i])\n",
    "\n",
    "in_circle_ratio = in_circle_count/len(x)\n",
    "print(\"円の中に入る割合\",  in_circle_ratio)"
   ]
  },
  {
   "cell_type": "markdown",
   "metadata": {},
   "source": [
    "上記の流れを関数にしておきましょう"
   ]
  },
  {
   "cell_type": "code",
   "execution_count": null,
   "metadata": {},
   "outputs": [],
   "source": [
    "def get_incircle_ratio(x, y):\n",
    "    in_circle_count = 0\n",
    "    in_circle_data_x = []\n",
    "    in_circle_data_y = []\n",
    "    out_circle_data_x = []\n",
    "    out_circle_data_y = []\n",
    "\n",
    "    for i in range(len(x)):\n",
    "        in_circle_flag = in_circle_func(x[i], y[i])  #もし円の中であれば1, そうでなければ0\n",
    "        in_circle_count += in_circle_flag #足し上げていけば円の中に入る点の数を数えられる\n",
    "\n",
    "    in_circle_ratio = in_circle_count/len(x)\n",
    "    return in_circle_ratio"
   ]
  },
  {
   "cell_type": "markdown",
   "metadata": {},
   "source": [
    "データを可視化してみましょう（以下のセルに記載されているコードを理解する必要はありません）"
   ]
  },
  {
   "cell_type": "code",
   "execution_count": null,
   "metadata": {
    "scrolled": true
   },
   "outputs": [],
   "source": [
    "fig = plt.figure(figsize=[5,5])\n",
    "plt.scatter(in_circle_data_x,in_circle_data_y, c='red')\n",
    "plt.scatter(out_circle_data_x,out_circle_data_y, c='blue')\n",
    "plt.show()"
   ]
  },
  {
   "cell_type": "markdown",
   "metadata": {},
   "source": [
    "乱数の発生エリアは、横軸(x)は0~3、縦軸(y)も0~3です。そのため、計算した円の中に入る割合（正確には扇型の中に入る割合）は3 x 3 = 9の面積の中の話です。そのため、3 x 3 x 円の中に入る割合 x 4 で円の面積が求められます。"
   ]
  },
  {
   "cell_type": "code",
   "execution_count": null,
   "metadata": {},
   "outputs": [],
   "source": [
    "estimated_are = 3*3*in_circle_ratio*4\n",
    "print(\"推定された値\", estimated_are)\n",
    "print(\"答え\", 3*3*np.pi)"
   ]
  },
  {
   "cell_type": "markdown",
   "metadata": {},
   "source": [
    "# モンテカルロシミュレーションではサンプル数が推定の精度に関係するので、サンプル数を変えながら、精度を見ていこう"
   ]
  },
  {
   "cell_type": "code",
   "execution_count": null,
   "metadata": {
    "scrolled": false
   },
   "outputs": [],
   "source": [
    "estimated_area = []\n",
    "sample_size_list = np.arange(100,20000,100)  #サンプル数を100から20000まで、100刻みでリストとして用意\n",
    "\n",
    "for sample_size in sample_size_list:\n",
    "    \n",
    "    # 乱数を生成\n",
    "    rand_nums_x, rand_nums_y = generate_uniform_random(size=sample_size)\n",
    "\n",
    "    # 面積の計算\n",
    "    result = (3*3)*4*get_incircle_ratio(rand_nums_x, rand_nums_y)\n",
    "\n",
    "    #後で可視化するために結果をリストに保存\n",
    "    estimated_area.append(result)"
   ]
  },
  {
   "cell_type": "markdown",
   "metadata": {},
   "source": [
    "サンプル数（x軸）を増やしたときの推定面積（y軸）を可視化してみましょう。だんだんと安定していっていることがわかります。"
   ]
  },
  {
   "cell_type": "code",
   "execution_count": null,
   "metadata": {
    "scrolled": true
   },
   "outputs": [],
   "source": [
    "# 横軸をsample_size, 縦軸にestimated_area として折れ線グラフを作成\n",
    "plt.plot(sample_size_list, estimated_area)\n",
    "plt.show()"
   ]
  },
  {
   "cell_type": "code",
   "execution_count": null,
   "metadata": {},
   "outputs": [],
   "source": [
    "print(\"推定された値\", estimated_area[-1])  #サンプルサイズが最大のときの推定された面積\n",
    "print(\"答え\", 3*3*np.pi)"
   ]
  }
 ],
 "metadata": {
  "kernelspec": {
   "display_name": "Python 3",
   "language": "python",
   "name": "python3"
  },
  "language_info": {
   "codemirror_mode": {
    "name": "ipython",
    "version": 3
   },
   "file_extension": ".py",
   "mimetype": "text/x-python",
   "name": "python",
   "nbconvert_exporter": "python",
   "pygments_lexer": "ipython3",
   "version": "3.6.3"
  }
 },
 "nbformat": 4,
 "nbformat_minor": 1
}
