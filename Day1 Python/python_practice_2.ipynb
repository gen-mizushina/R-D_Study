{
 "cells": [
  {
   "cell_type": "markdown",
   "metadata": {},
   "source": [
    "# Python プログラミング入門  \n",
    "copyright 2019 Jujukeisan.co.jp\n",
    "\n",
    "本資料の目的  \n",
    "・初めてプログラミングを学ぶ方向けにプログラミングで使うロジックを理解する  \n",
    "・Python以外のプログラミング経験がある人がPythonでの記述方法レビューする"
   ]
  },
  {
   "cell_type": "markdown",
   "metadata": {},
   "source": [
    "---"
   ]
  },
  {
   "cell_type": "markdown",
   "metadata": {},
   "source": [
    "# ロジックを組むための反復処理\n",
    "・forループ  \n",
    "・whileループ  \n"
   ]
  },
  {
   "cell_type": "markdown",
   "metadata": {},
   "source": [
    "---"
   ]
  },
  {
   "cell_type": "markdown",
   "metadata": {},
   "source": [
    "## forループ\n",
    "forループは「データの集り(リストなど)」から「データを１つずつ取出して」処理を実行していきます。  \n",
    "\n",
    "【構文】  \n",
    "　　for var in expression:  \n",
    "　　　　処理・・・・  \n",
    "    \n",
    "※expression：データの集合　var：取出した値  \n",
    "※for文に対応する処理は<b>インデント</b>を揃える必要があります。"
   ]
  },
  {
   "cell_type": "code",
   "execution_count": null,
   "metadata": {
    "collapsed": true
   },
   "outputs": [],
   "source": [
    "# 配列に格納された値を1つずつ取出し表示\n",
    "fruits = [\"リンゴ\",\"バナナ\",\"メロン\",\"いちご\",\"パイナップル\"]\n",
    "for x in fruits:\n",
    "    print(x)\n",
    "\n",
    "print(\"--------------------------------------------\")\n",
    "    \n",
    "# 配列に格納された値を1つずつ取出し10倍して表示\n",
    "num = [9,2,4,3,5,7,1]\n",
    "for i in num:\n",
    "    print(i * 10)"
   ]
  },
  {
   "cell_type": "markdown",
   "metadata": {},
   "source": [
    "処理を10回繰り返したい場合は range(回数) を用います。  \n",
    "※rangeは0から始まるので注意です！"
   ]
  },
  {
   "cell_type": "code",
   "execution_count": null,
   "metadata": {
    "collapsed": true
   },
   "outputs": [],
   "source": [
    "for i in range(5):\n",
    "    print(i)"
   ]
  },
  {
   "cell_type": "markdown",
   "metadata": {},
   "source": [
    "else がある場合は、ループの最後に else節 を実行します。"
   ]
  },
  {
   "cell_type": "code",
   "execution_count": null,
   "metadata": {
    "collapsed": true
   },
   "outputs": [],
   "source": [
    "for i in range(5):\n",
    "    print(i)\n",
    "else:\n",
    "    print(\"おわり\")"
   ]
  },
  {
   "cell_type": "markdown",
   "metadata": {},
   "source": [
    "ループを途中で抜ける場合 breakを使います。"
   ]
  },
  {
   "cell_type": "code",
   "execution_count": null,
   "metadata": {
    "collapsed": true
   },
   "outputs": [],
   "source": [
    "# i < 5 が真の場合ループを繰返し、偽の場合ループを抜ける\n",
    "for i in range(10):\n",
    "    if i<5:\n",
    "        print(i)\n",
    "    else:\n",
    "        break"
   ]
  },
  {
   "cell_type": "markdown",
   "metadata": {},
   "source": [
    "---"
   ]
  },
  {
   "cell_type": "markdown",
   "metadata": {},
   "source": [
    "# 演習 ループ処理  \n",
    "1～10まで順番に足していき合計を求めてみよう"
   ]
  },
  {
   "cell_type": "markdown",
   "metadata": {},
   "source": [
    "---"
   ]
  },
  {
   "cell_type": "markdown",
   "metadata": {},
   "source": [
    "## whileループ\n",
    "whileループは指定した条件が真の間、繰返し処理を行います。while は「～のあいだ」を意味します。  \n",
    "\n",
    "【構文】  \n",
    "　　while expression:\n",
    "　　　　処理・・・・  \n",
    "    \n",
    "※expression：ループを行う条件  \n",
    "※条件が常に真となるような条件を指定すると<b>無限ループ</b>になってしまうので、注意が必要です。  \n",
    "　while True:"
   ]
  },
  {
   "cell_type": "code",
   "execution_count": null,
   "metadata": {
    "collapsed": true
   },
   "outputs": [],
   "source": [
    "n = 0\n",
    "while n < 6: # nが10より小さい間繰り返す\n",
    "    print(n)\n",
    "    n += 1     # n = n + 1 の意味\n",
    "else:\n",
    "    print('END')"
   ]
  },
  {
   "cell_type": "markdown",
   "metadata": {},
   "source": [
    "無限ループにif文で条件を指定し、breakを使ってループを途中で抜けてみましょう。"
   ]
  },
  {
   "cell_type": "code",
   "execution_count": null,
   "metadata": {
    "collapsed": true
   },
   "outputs": [],
   "source": [
    "n = 0\n",
    "while True : # 無限ループ\n",
    "    if n > 5:\n",
    "        break\n",
    "    else:\n",
    "        print(n)\n",
    "        n += 1\n"
   ]
  },
  {
   "cell_type": "markdown",
   "metadata": {},
   "source": [
    "---"
   ]
  },
  {
   "cell_type": "markdown",
   "metadata": {},
   "source": [
    "# 演習 ループ処理  \n",
    "while文を使って、1～10までの各値を2で割った数字を表示してみよう。"
   ]
  },
  {
   "cell_type": "markdown",
   "metadata": {},
   "source": [
    "---\n",
    "# ロジックを組むための条件分岐処理\n",
    "・if～else文  \n"
   ]
  },
  {
   "cell_type": "markdown",
   "metadata": {},
   "source": [
    "---"
   ]
  },
  {
   "cell_type": "markdown",
   "metadata": {},
   "source": [
    "## if～else\n",
    "if～elseは指定した条件に沿った処理を行うように振り分け処理を行います。\n",
    "式が真であれば、インデントされたブロックを実行します。  \n",
    "\n",
    "【構文】  \n",
    "　　if 条件式1:  \n",
    "　　　条件式1が真の時に実行する処理  \n",
    "　　elif 条件式2:  \n",
    "　　　条件式1が偽で条件式2が真の時に実行する処理  \n",
    "　　elif 条件式3:  \n",
    "　　　条件式1及び条件式2が偽で条件式3が真の時に実行する処理  \n",
    "　　else:  \n",
    "　　　全ての条件式が偽の時に実行する処理  \n",
    "    \n",
    "※if文(elif文)に対応する処理は<b>インデント</b>を揃える必要があります。  \n",
    "※条件指定方法  \n",
    "　・同じ場合：==　　例)if a == 0　　aがゼロの場合  \n",
    "　・違う場合：!=　　例)if a != 0　　aがゼロでない場合  \n",
    "　・複数条件指定（かつ）：and　　　例) if a == 1 and b == 2　aが1かつbが2の場合  \n",
    "　・複数条件指定（または）：or　　例)if a == 1 or b == 2　aが1またはbが2の場合  \n",
    "  "
   ]
  },
  {
   "cell_type": "markdown",
   "metadata": {},
   "source": [
    "0～10までの数字で、偶数のみを表示してみましょう。"
   ]
  },
  {
   "cell_type": "code",
   "execution_count": null,
   "metadata": {
    "collapsed": true
   },
   "outputs": [],
   "source": [
    "for i in range(11): # rangeは0から始まるので、11で指定\n",
    "    if i % 2 == 0:\n",
    "        print(i)"
   ]
  },
  {
   "cell_type": "markdown",
   "metadata": {},
   "source": [
    "elif は「else if」のことで、「そうでなくて, もしも」 という意味になります。  \n",
    "elif は 何回つかってもかまいません。  "
   ]
  },
  {
   "cell_type": "code",
   "execution_count": null,
   "metadata": {
    "collapsed": true
   },
   "outputs": [],
   "source": [
    "domain = \"kr\"\n",
    "if domain == \"jp\":\n",
    "  print (\"日本です\")\n",
    "elif domain == \"kr\":\n",
    "  print (\"韓国です\")\n",
    "elif domain == \"cn\":\n",
    "  print (\"中国です\")\n",
    "else:\n",
    "  print (\"その他の国です\")"
   ]
  },
  {
   "cell_type": "markdown",
   "metadata": {},
   "source": [
    "---"
   ]
  },
  {
   "cell_type": "markdown",
   "metadata": {},
   "source": [
    "# 演習 ループ処理  \n",
    "1から順番に値を足していき（1+2+3+4+5+・・・）、合計が25000以上になったら処理を止め、最期に足した値と合計値を調べてみよう。  \n",
    "ループ関数はfor文でもwhile文でも構いません。"
   ]
  },
  {
   "cell_type": "markdown",
   "metadata": {},
   "source": [
    "---\n",
    "# 関数\n",
    "関数とは、処理のまとまりのことであり、引数（インプット）データを受け取り、定められた通りの処理を実行後、結果を返すひとまとまりの処理として定義されます。  \n",
    "\n",
    "【構文】  \n",
    "　　def function_name(args1, args2,...):  \n",
    "　　　　処理  \n",
    "　　　　[return 戻り値]  \n",
    "\n",
    "※defキーワードを利用して、関数名、関数に値を渡す引数名を定義する  \n",
    "※引数および戻り値は省略可能"
   ]
  },
  {
   "cell_type": "markdown",
   "metadata": {},
   "source": [
    "---"
   ]
  },
  {
   "cell_type": "code",
   "execution_count": null,
   "metadata": {
    "collapsed": true
   },
   "outputs": [],
   "source": [
    "def greet(hour):\n",
    "    if 5 <= hour < 13 :\n",
    "        return \"Morning\"\n",
    "    elif 13 <= hour < 18:\n",
    "        return \"Afternoon\"\n",
    "    elif 18 <= hour <22:\n",
    "        return \"Evening\"\n",
    "    else:\n",
    "        return \"Night\"\n",
    "    \n",
    "\n",
    "# greetを呼び出す\n",
    "greet(12)\n"
   ]
  },
  {
   "cell_type": "markdown",
   "metadata": {},
   "source": [
    "引数にデフォルト値を指定も可能。"
   ]
  },
  {
   "cell_type": "code",
   "execution_count": null,
   "metadata": {},
   "outputs": [],
   "source": [
    "def greet(hour = 8): # 引数未指定の場合8を設定\n",
    "    if 6 <= hour < 12:\n",
    "        return ('good morning')\n",
    "    elif 12 <= hour < 18:\n",
    "        return ('hello')\n",
    "    else:\n",
    "        return ('good evening')\n",
    "    \n",
    "\n",
    "print(\"引数未指定で呼び出し：\",greet())\n",
    "print(\"引数14で呼び出し：\",greet(14))\n"
   ]
  },
  {
   "cell_type": "markdown",
   "metadata": {},
   "source": [
    "---"
   ]
  },
  {
   "cell_type": "markdown",
   "metadata": {},
   "source": [
    "# 演習 関数\n",
    "ある整数を投げたら、その値が「奇数か？」「偶数か？」を教えてくれる関数を作ってみよう。"
   ]
  }
 ],
 "metadata": {
  "kernelspec": {
   "display_name": "Python 3",
   "language": "python",
   "name": "python3"
  },
  "language_info": {
   "codemirror_mode": {
    "name": "ipython",
    "version": 3
   },
   "file_extension": ".py",
   "mimetype": "text/x-python",
   "name": "python",
   "nbconvert_exporter": "python",
   "pygments_lexer": "ipython3",
   "version": "3.6.3"
  }
 },
 "nbformat": 4,
 "nbformat_minor": 2
}
